{
 "metadata": {
  "name": "",
  "signature": "sha256:0a922d3268a7b3fd120d1c23b2f2620ccd41c2378f9fadd6239b60e0e4f333a2"
 },
 "nbformat": 3,
 "nbformat_minor": 0,
 "worksheets": []
}